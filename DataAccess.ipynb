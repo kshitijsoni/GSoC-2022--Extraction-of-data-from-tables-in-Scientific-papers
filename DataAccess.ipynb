{
 "cells": [
  {
   "cell_type": "code",
   "execution_count": 1,
   "id": "1addb8d6",
   "metadata": {},
   "outputs": [
    {
     "name": "stdout",
     "output_type": "stream",
     "text": [
      "Collecting wbtoolsNote: you may need to restart the kernel to use updated packages.\n"
     ]
    },
    {
     "name": "stderr",
     "output_type": "stream",
     "text": [
      "ERROR: pip's dependency resolver does not currently take into account all the packages that are installed. This behaviour is the source of the following dependency conflicts.\n",
      "spyder 4.2.5 requires pyqt5<5.13, which is not installed.\n",
      "spyder 4.2.5 requires pyqtwebengine<5.13, which is not installed.\n",
      "conda-repo-cli 1.0.4 requires pathlib, which is not installed.\n"
     ]
    },
    {
     "name": "stdout",
     "output_type": "stream",
     "text": [
      "\n",
      "  Downloading wbtools-1.3.0-py3-none-any.whl (54 kB)\n",
      "Collecting gensim~=3.8.3\n",
      "  Downloading gensim-3.8.3-cp38-cp38-win_amd64.whl (24.2 MB)\n",
      "Requirement already satisfied: nltk~=3.5 in c:\\users\\mr.kshitij\\anaconda3\\lib\\site-packages (from wbtools) (3.6.1)\n",
      "Collecting numpy~=1.19.2\n",
      "  Downloading numpy-1.19.5-cp38-cp38-win_amd64.whl (13.3 MB)\n",
      "Collecting setuptools~=50.3.2\n",
      "  Downloading setuptools-50.3.2-py3-none-any.whl (785 kB)\n",
      "Collecting regex~=2020.10.28\n",
      "  Downloading regex-2020.10.28-cp38-cp38-win_amd64.whl (269 kB)\n",
      "Collecting pdfminer.six==20201018\n",
      "  Downloading pdfminer.six-20201018-py3-none-any.whl (5.6 MB)\n",
      "Collecting fabric~=2.5.0\n",
      "  Downloading fabric-2.5.0-py2.py3-none-any.whl (51 kB)\n",
      "Collecting psycopg2-binary\n",
      "  Downloading psycopg2_binary-2.9.3-cp38-cp38-win_amd64.whl (1.1 MB)\n",
      "Requirement already satisfied: pytz~=2021.1 in c:\\users\\mr.kshitij\\anaconda3\\lib\\site-packages (from wbtools) (2021.1)\n",
      "Collecting pandas~=1.3.3\n",
      "  Downloading pandas-1.3.5-cp38-cp38-win_amd64.whl (10.2 MB)\n",
      "Requirement already satisfied: cryptography in c:\\users\\mr.kshitij\\anaconda3\\lib\\site-packages (from pdfminer.six==20201018->wbtools) (3.4.7)\n",
      "Requirement already satisfied: chardet in c:\\users\\mr.kshitij\\anaconda3\\lib\\site-packages (from pdfminer.six==20201018->wbtools) (4.0.0)\n",
      "Requirement already satisfied: sortedcontainers in c:\\users\\mr.kshitij\\anaconda3\\lib\\site-packages (from pdfminer.six==20201018->wbtools) (2.3.0)\n",
      "Requirement already satisfied: paramiko>=2.4 in c:\\users\\mr.kshitij\\anaconda3\\lib\\site-packages (from fabric~=2.5.0->wbtools) (2.7.2)\n",
      "Collecting invoke<2.0,>=1.3\n",
      "  Downloading invoke-1.7.1-py3-none-any.whl (215 kB)\n",
      "Requirement already satisfied: scipy>=0.18.1 in c:\\users\\mr.kshitij\\anaconda3\\lib\\site-packages (from gensim~=3.8.3->wbtools) (1.6.2)\n",
      "Collecting Cython==0.29.14\n",
      "  Downloading Cython-0.29.14-cp38-cp38-win_amd64.whl (1.7 MB)\n",
      "Collecting smart-open>=1.8.1\n",
      "  Downloading smart_open-6.0.0-py3-none-any.whl (58 kB)\n",
      "Requirement already satisfied: six>=1.5.0 in c:\\users\\mr.kshitij\\anaconda3\\lib\\site-packages (from gensim~=3.8.3->wbtools) (1.15.0)\n",
      "Requirement already satisfied: tqdm in c:\\users\\mr.kshitij\\anaconda3\\lib\\site-packages (from nltk~=3.5->wbtools) (4.59.0)\n",
      "Requirement already satisfied: click in c:\\users\\mr.kshitij\\anaconda3\\lib\\site-packages (from nltk~=3.5->wbtools) (7.1.2)\n",
      "Requirement already satisfied: joblib in c:\\users\\mr.kshitij\\anaconda3\\lib\\site-packages (from nltk~=3.5->wbtools) (1.0.1)\n",
      "Requirement already satisfied: python-dateutil>=2.7.3 in c:\\users\\mr.kshitij\\anaconda3\\lib\\site-packages (from pandas~=1.3.3->wbtools) (2.8.1)\n",
      "Requirement already satisfied: bcrypt>=3.1.3 in c:\\users\\mr.kshitij\\anaconda3\\lib\\site-packages (from paramiko>=2.4->fabric~=2.5.0->wbtools) (3.2.0)\n",
      "Requirement already satisfied: pynacl>=1.0.1 in c:\\users\\mr.kshitij\\anaconda3\\lib\\site-packages (from paramiko>=2.4->fabric~=2.5.0->wbtools) (1.4.0)\n",
      "Requirement already satisfied: cffi>=1.1 in c:\\users\\mr.kshitij\\anaconda3\\lib\\site-packages (from bcrypt>=3.1.3->paramiko>=2.4->fabric~=2.5.0->wbtools) (1.14.5)\n",
      "Requirement already satisfied: pycparser in c:\\users\\mr.kshitij\\anaconda3\\lib\\site-packages (from cffi>=1.1->bcrypt>=3.1.3->paramiko>=2.4->fabric~=2.5.0->wbtools) (2.20)\n",
      "Installing collected packages: numpy, smart-open, regex, invoke, Cython, setuptools, psycopg2-binary, pdfminer.six, pandas, gensim, fabric, wbtools\n",
      "  Attempting uninstall: numpy\n",
      "    Found existing installation: numpy 1.20.1\n",
      "    Uninstalling numpy-1.20.1:\n",
      "      Successfully uninstalled numpy-1.20.1\n",
      "  Attempting uninstall: regex\n",
      "    Found existing installation: regex 2021.4.4\n",
      "    Uninstalling regex-2021.4.4:\n",
      "      Successfully uninstalled regex-2021.4.4\n",
      "  Attempting uninstall: Cython\n",
      "    Found existing installation: Cython 0.29.23\n",
      "    Uninstalling Cython-0.29.23:\n",
      "      Successfully uninstalled Cython-0.29.23\n",
      "  Attempting uninstall: setuptools\n",
      "    Found existing installation: setuptools 52.0.0.post20210125\n",
      "    Uninstalling setuptools-52.0.0.post20210125:\n",
      "      Successfully uninstalled setuptools-52.0.0.post20210125\n",
      "  Attempting uninstall: pandas\n",
      "    Found existing installation: pandas 1.2.4\n",
      "    Uninstalling pandas-1.2.4:\n",
      "      Successfully uninstalled pandas-1.2.4\n",
      "Successfully installed Cython-0.29.14 fabric-2.5.0 gensim-3.8.3 invoke-1.7.1 numpy-1.19.5 pandas-1.3.5 pdfminer.six-20201018 psycopg2-binary-2.9.3 regex-2020.10.28 setuptools-50.3.2 smart-open-6.0.0 wbtools-1.3.0\n"
     ]
    }
   ],
   "source": [
    "pip install wbtools"
   ]
  },
  {
   "cell_type": "code",
   "execution_count": 14,
   "id": "ca8583c9",
   "metadata": {},
   "outputs": [
    {
     "ename": "PermissionError",
     "evalue": "[Errno 13] Permission denied: 'C:\\\\Users\\\\MRF7FD~1.KSH\\\\AppData\\\\Local\\\\Temp\\\\tmpot54aeu_'",
     "output_type": "error",
     "traceback": [
      "\u001b[1;31m---------------------------------------------------------------------------\u001b[0m",
      "\u001b[1;31mPermissionError\u001b[0m                           Traceback (most recent call last)",
      "\u001b[1;32m<ipython-input-14-a5795bc16499>\u001b[0m in \u001b[0;36m<module>\u001b[1;34m\u001b[0m\n\u001b[0;32m      3\u001b[0m \u001b[0mpaper_id\u001b[0m \u001b[1;33m=\u001b[0m \u001b[1;34m\"00050564\"\u001b[0m\u001b[1;33m\u001b[0m\u001b[1;33m\u001b[0m\u001b[0m\n\u001b[0;32m      4\u001b[0m \u001b[0mcm\u001b[0m \u001b[1;33m=\u001b[0m \u001b[0mCorpusManager\u001b[0m\u001b[1;33m(\u001b[0m\u001b[1;33m)\u001b[0m\u001b[1;33m\u001b[0m\u001b[1;33m\u001b[0m\u001b[0m\n\u001b[1;32m----> 5\u001b[1;33m cm.load_from_wb_database(db_name=\"testdb\", db_user=\"hinxton\", db_password=\"h.h-Z__9v-CvstH!\", db_host=\"mangolassi.caltech.edu\",\n\u001b[0m\u001b[0;32m      6\u001b[0m                          \u001b[0mpaper_ids\u001b[0m\u001b[1;33m=\u001b[0m\u001b[1;33m[\u001b[0m\u001b[0mpaper_id\u001b[0m\u001b[1;33m]\u001b[0m\u001b[1;33m,\u001b[0m \u001b[0mfile_server_host\u001b[0m\u001b[1;33m=\u001b[0m\u001b[1;34m\"https://tazendra.caltech.edu/~acedb/daniel/\"\u001b[0m\u001b[1;33m,\u001b[0m \u001b[0mfile_server_user\u001b[0m\u001b[1;33m=\u001b[0m\u001b[1;34m\"kshitijsoni\"\u001b[0m\u001b[1;33m,\u001b[0m\u001b[1;33m\u001b[0m\u001b[1;33m\u001b[0m\u001b[0m\n\u001b[0;32m      7\u001b[0m                          file_server_passwd=\"cpk2(<e$K/6Ku]~D\")\n",
      "\u001b[1;32m~\\anaconda3\\lib\\site-packages\\wbtools\\literature\\corpus.py\u001b[0m in \u001b[0;36mload_from_wb_database\u001b[1;34m(self, db_name, db_user, db_password, db_host, file_server_host, file_server_user, file_server_passwd, paper_ids, from_date, load_pdf_files, load_bib_info, load_curation_info, load_afp_info, max_num_papers, exclude_ids, must_be_autclass_flagged, exclude_temp_pdf, exclude_pap_types, pap_types, exclude_afp_processed, exclude_afp_not_curatable, exclude_no_main_text, exclude_no_author_email)\u001b[0m\n\u001b[0;32m    131\u001b[0m             \u001b[1;32mif\u001b[0m \u001b[0mload_pdf_files\u001b[0m\u001b[1;33m:\u001b[0m\u001b[1;33m\u001b[0m\u001b[1;33m\u001b[0m\u001b[0m\n\u001b[0;32m    132\u001b[0m                 \u001b[0mlogger\u001b[0m\u001b[1;33m.\u001b[0m\u001b[0minfo\u001b[0m\u001b[1;33m(\u001b[0m\u001b[1;34m\"Loading text from PDF files for paper\"\u001b[0m\u001b[1;33m)\u001b[0m\u001b[1;33m\u001b[0m\u001b[1;33m\u001b[0m\u001b[0m\n\u001b[1;32m--> 133\u001b[1;33m                 \u001b[0mpaper\u001b[0m\u001b[1;33m.\u001b[0m\u001b[0mload_text_from_pdf_files_in_db\u001b[0m\u001b[1;33m(\u001b[0m\u001b[1;33m)\u001b[0m\u001b[1;33m\u001b[0m\u001b[1;33m\u001b[0m\u001b[0m\n\u001b[0m\u001b[0;32m    134\u001b[0m                 \u001b[1;32mif\u001b[0m \u001b[0mexclude_temp_pdf\u001b[0m \u001b[1;32mand\u001b[0m \u001b[0mpaper\u001b[0m\u001b[1;33m.\u001b[0m\u001b[0mis_temp\u001b[0m\u001b[1;33m(\u001b[0m\u001b[1;33m)\u001b[0m\u001b[1;33m:\u001b[0m\u001b[1;33m\u001b[0m\u001b[1;33m\u001b[0m\u001b[0m\n\u001b[0;32m    135\u001b[0m                     \u001b[0mlogger\u001b[0m\u001b[1;33m.\u001b[0m\u001b[0minfo\u001b[0m\u001b[1;33m(\u001b[0m\u001b[1;34m\"Skipping proof paper\"\u001b[0m\u001b[1;33m)\u001b[0m\u001b[1;33m\u001b[0m\u001b[1;33m\u001b[0m\u001b[0m\n",
      "\u001b[1;32m~\\anaconda3\\lib\\site-packages\\wbtools\\literature\\paper.py\u001b[0m in \u001b[0;36mload_text_from_pdf_files_in_db\u001b[1;34m(self)\u001b[0m\n\u001b[0;32m    214\u001b[0m                 \u001b[1;32mif\u001b[0m \u001b[0mfilename\u001b[0m\u001b[1;33m.\u001b[0m\u001b[0mlower\u001b[0m\u001b[1;33m(\u001b[0m\u001b[1;33m)\u001b[0m\u001b[1;33m.\u001b[0m\u001b[0mendswith\u001b[0m\u001b[1;33m(\u001b[0m\u001b[1;34m\".pdf\"\u001b[0m\u001b[1;33m)\u001b[0m \u001b[1;32mor\u001b[0m \u001b[0mre\u001b[0m\u001b[1;33m.\u001b[0m\u001b[0mmatch\u001b[0m\u001b[1;33m(\u001b[0m\u001b[1;34mr'^[0-9]+$'\u001b[0m\u001b[1;33m,\u001b[0m \u001b[0mfilename\u001b[0m\u001b[1;33m)\u001b[0m\u001b[1;33m:\u001b[0m\u001b[1;33m\u001b[0m\u001b[1;33m\u001b[0m\u001b[0m\n\u001b[0;32m    215\u001b[0m                     \u001b[0mdir_path\u001b[0m \u001b[1;33m=\u001b[0m \u001b[0mfile_path\u001b[0m\u001b[1;33m.\u001b[0m\u001b[0mrstrip\u001b[0m\u001b[1;33m(\u001b[0m\u001b[0mfilename\u001b[0m\u001b[1;33m)\u001b[0m\u001b[1;33m\u001b[0m\u001b[1;33m\u001b[0m\u001b[0m\n\u001b[1;32m--> 216\u001b[1;33m                     \u001b[0mself\u001b[0m\u001b[1;33m.\u001b[0m\u001b[0madd_file\u001b[0m\u001b[1;33m(\u001b[0m\u001b[0mdir_path\u001b[0m\u001b[1;33m=\u001b[0m\u001b[0mdir_path\u001b[0m\u001b[1;33m,\u001b[0m \u001b[0mfilename\u001b[0m\u001b[1;33m=\u001b[0m\u001b[0mfilename\u001b[0m\u001b[1;33m,\u001b[0m \u001b[0mremote_file\u001b[0m\u001b[1;33m=\u001b[0m\u001b[1;32mTrue\u001b[0m\u001b[1;33m,\u001b[0m \u001b[0mpdf\u001b[0m\u001b[1;33m=\u001b[0m\u001b[1;32mTrue\u001b[0m\u001b[1;33m)\u001b[0m\u001b[1;33m\u001b[0m\u001b[1;33m\u001b[0m\u001b[0m\n\u001b[0m\u001b[0;32m    217\u001b[0m         \u001b[1;32melse\u001b[0m\u001b[1;33m:\u001b[0m\u001b[1;33m\u001b[0m\u001b[1;33m\u001b[0m\u001b[0m\n\u001b[0;32m    218\u001b[0m             \u001b[1;32mraise\u001b[0m \u001b[0mException\u001b[0m\u001b[1;33m(\u001b[0m\u001b[1;34m\"PaperDBManager not set\"\u001b[0m\u001b[1;33m)\u001b[0m\u001b[1;33m\u001b[0m\u001b[1;33m\u001b[0m\u001b[0m\n",
      "\u001b[1;32m~\\anaconda3\\lib\\site-packages\\wbtools\\literature\\paper.py\u001b[0m in \u001b[0;36madd_file\u001b[1;34m(self, dir_path, filename, remote_file, pdf)\u001b[0m\n\u001b[0;32m    188\u001b[0m                     \u001b[1;32mreturn\u001b[0m\u001b[1;33m\u001b[0m\u001b[1;33m\u001b[0m\u001b[0m\n\u001b[0;32m    189\u001b[0m                 \u001b[1;32mif\u001b[0m \u001b[1;32mnot\u001b[0m \u001b[0madditional_options\u001b[0m\u001b[1;33m:\u001b[0m\u001b[1;33m\u001b[0m\u001b[1;33m\u001b[0m\u001b[0m\n\u001b[1;32m--> 190\u001b[1;33m                     \u001b[0mself\u001b[0m\u001b[1;33m.\u001b[0m\u001b[0mmain_text\u001b[0m \u001b[1;33m=\u001b[0m \u001b[0mself\u001b[0m\u001b[1;33m.\u001b[0m\u001b[0mpaper_file_reader\u001b[0m\u001b[1;33m.\u001b[0m\u001b[0mget_text_from_file\u001b[0m\u001b[1;33m(\u001b[0m\u001b[0mdir_path\u001b[0m\u001b[1;33m,\u001b[0m \u001b[0msup_dir\u001b[0m\u001b[1;33m,\u001b[0m \u001b[0mfilename\u001b[0m\u001b[1;33m,\u001b[0m \u001b[0mremote_file\u001b[0m\u001b[1;33m,\u001b[0m \u001b[0mpdf\u001b[0m\u001b[1;33m)\u001b[0m\u001b[1;33m\u001b[0m\u001b[1;33m\u001b[0m\u001b[0m\n\u001b[0m\u001b[0;32m    191\u001b[0m                 \u001b[1;32melif\u001b[0m \u001b[1;34m\"Supp\"\u001b[0m \u001b[1;32min\u001b[0m \u001b[0madditional_options\u001b[0m \u001b[1;32mor\u001b[0m \u001b[1;34m\"supp\"\u001b[0m \u001b[1;32min\u001b[0m \u001b[0madditional_options\u001b[0m \u001b[1;32mor\u001b[0m \u001b[1;34m\"Table\"\u001b[0m \u001b[1;32min\u001b[0m \u001b[0madditional_options\u001b[0m \u001b[1;32mor\u001b[0m\u001b[0;31m \u001b[0m\u001b[0;31m\\\u001b[0m\u001b[1;33m\u001b[0m\u001b[1;33m\u001b[0m\u001b[0m\n\u001b[0;32m    192\u001b[0m                         \u001b[1;34m\"table\"\u001b[0m \u001b[1;32min\u001b[0m \u001b[0madditional_options\u001b[0m \u001b[1;32mor\u001b[0m \u001b[1;34m\"Movie\"\u001b[0m \u001b[1;32min\u001b[0m \u001b[0madditional_options\u001b[0m \u001b[1;32mor\u001b[0m \u001b[1;34m\"movie\"\u001b[0m \u001b[1;32min\u001b[0m \u001b[0madditional_options\u001b[0m\u001b[1;33m:\u001b[0m\u001b[1;33m\u001b[0m\u001b[1;33m\u001b[0m\u001b[0m\n",
      "\u001b[1;32m~\\anaconda3\\lib\\site-packages\\wbtools\\literature\\paper.py\u001b[0m in \u001b[0;36mget_text_from_file\u001b[1;34m(self, dir_path, supp_dir, filename, remote_file, pdf)\u001b[0m\n\u001b[0;32m     60\u001b[0m     \u001b[1;32mdef\u001b[0m \u001b[0mget_text_from_file\u001b[0m\u001b[1;33m(\u001b[0m\u001b[0mself\u001b[0m\u001b[1;33m,\u001b[0m \u001b[0mdir_path\u001b[0m\u001b[1;33m,\u001b[0m \u001b[0msupp_dir\u001b[0m\u001b[1;33m,\u001b[0m \u001b[0mfilename\u001b[0m\u001b[1;33m,\u001b[0m \u001b[0mremote_file\u001b[0m\u001b[1;33m:\u001b[0m \u001b[0mbool\u001b[0m \u001b[1;33m=\u001b[0m \u001b[1;32mFalse\u001b[0m\u001b[1;33m,\u001b[0m \u001b[0mpdf\u001b[0m\u001b[1;33m:\u001b[0m \u001b[0mbool\u001b[0m \u001b[1;33m=\u001b[0m \u001b[1;32mFalse\u001b[0m\u001b[1;33m)\u001b[0m\u001b[1;33m:\u001b[0m\u001b[1;33m\u001b[0m\u001b[1;33m\u001b[0m\u001b[0m\n\u001b[0;32m     61\u001b[0m         \u001b[1;32mif\u001b[0m \u001b[0mremote_file\u001b[0m\u001b[1;33m:\u001b[0m\u001b[1;33m\u001b[0m\u001b[1;33m\u001b[0m\u001b[0m\n\u001b[1;32m---> 62\u001b[1;33m             \u001b[0mtext\u001b[0m \u001b[1;33m=\u001b[0m \u001b[0mself\u001b[0m\u001b[1;33m.\u001b[0m\u001b[0mdownload_paper_and_extract_txt\u001b[0m\u001b[1;33m(\u001b[0m\u001b[0mself\u001b[0m\u001b[1;33m.\u001b[0m\u001b[0mhost\u001b[0m\u001b[1;33m.\u001b[0m\u001b[0mrstrip\u001b[0m\u001b[1;33m(\u001b[0m\u001b[1;34m\"/\"\u001b[0m\u001b[1;33m)\u001b[0m \u001b[1;33m+\u001b[0m \u001b[1;34m\"/\"\u001b[0m \u001b[1;33m+\u001b[0m \u001b[0msupp_dir\u001b[0m \u001b[1;33m+\u001b[0m \u001b[0mfilename\u001b[0m\u001b[1;33m,\u001b[0m \u001b[0mpdf\u001b[0m\u001b[1;33m)\u001b[0m\u001b[1;33m\u001b[0m\u001b[1;33m\u001b[0m\u001b[0m\n\u001b[0m\u001b[0;32m     63\u001b[0m         \u001b[1;32melse\u001b[0m\u001b[1;33m:\u001b[0m\u001b[1;33m\u001b[0m\u001b[1;33m\u001b[0m\u001b[0m\n\u001b[0;32m     64\u001b[0m             \u001b[1;32mwith\u001b[0m \u001b[0mopen\u001b[0m\u001b[1;33m(\u001b[0m\u001b[0mos\u001b[0m\u001b[1;33m.\u001b[0m\u001b[0mpath\u001b[0m\u001b[1;33m.\u001b[0m\u001b[0mjoin\u001b[0m\u001b[1;33m(\u001b[0m\u001b[0mdir_path\u001b[0m\u001b[1;33m,\u001b[0m \u001b[0mfilename\u001b[0m\u001b[1;33m)\u001b[0m\u001b[1;33m,\u001b[0m \u001b[1;34m'r'\u001b[0m\u001b[1;33m)\u001b[0m \u001b[1;32mas\u001b[0m \u001b[0mfile\u001b[0m\u001b[1;33m:\u001b[0m\u001b[1;33m\u001b[0m\u001b[1;33m\u001b[0m\u001b[0m\n",
      "\u001b[1;32m~\\anaconda3\\lib\\site-packages\\wbtools\\literature\\paper.py\u001b[0m in \u001b[0;36mdownload_paper_and_extract_txt\u001b[1;34m(self, file_url, pdf)\u001b[0m\n\u001b[0;32m     49\u001b[0m     \u001b[1;32mdef\u001b[0m \u001b[0mdownload_paper_and_extract_txt\u001b[0m\u001b[1;33m(\u001b[0m\u001b[0mself\u001b[0m\u001b[1;33m,\u001b[0m \u001b[0mfile_url\u001b[0m\u001b[1;33m,\u001b[0m \u001b[0mpdf\u001b[0m\u001b[1;33m:\u001b[0m \u001b[0mbool\u001b[0m \u001b[1;33m=\u001b[0m \u001b[1;32mFalse\u001b[0m\u001b[1;33m)\u001b[0m\u001b[1;33m:\u001b[0m\u001b[1;33m\u001b[0m\u001b[1;33m\u001b[0m\u001b[0m\n\u001b[0;32m     50\u001b[0m         \u001b[1;32mtry\u001b[0m\u001b[1;33m:\u001b[0m\u001b[1;33m\u001b[0m\u001b[1;33m\u001b[0m\u001b[0m\n\u001b[1;32m---> 51\u001b[1;33m             \u001b[0mtmp_file\u001b[0m \u001b[1;33m=\u001b[0m \u001b[0mdownload_pdf_file_from_url\u001b[0m\u001b[1;33m(\u001b[0m\u001b[0mfile_url\u001b[0m\u001b[1;33m,\u001b[0m \u001b[0mself\u001b[0m\u001b[1;33m.\u001b[0m\u001b[0muser\u001b[0m\u001b[1;33m,\u001b[0m \u001b[0mself\u001b[0m\u001b[1;33m.\u001b[0m\u001b[0mpasswd\u001b[0m\u001b[1;33m)\u001b[0m\u001b[1;33m\u001b[0m\u001b[1;33m\u001b[0m\u001b[0m\n\u001b[0m\u001b[0;32m     52\u001b[0m             \u001b[1;32mif\u001b[0m \u001b[0mpdf\u001b[0m\u001b[1;33m:\u001b[0m\u001b[1;33m\u001b[0m\u001b[1;33m\u001b[0m\u001b[0m\n\u001b[0;32m     53\u001b[0m                 \u001b[1;32mreturn\u001b[0m \u001b[0mself\u001b[0m\u001b[1;33m.\u001b[0m\u001b[0mconvert_pdf_to_txt\u001b[0m\u001b[1;33m(\u001b[0m\u001b[0mtmp_file\u001b[0m\u001b[1;33m.\u001b[0m\u001b[0mname\u001b[0m\u001b[1;33m)\u001b[0m\u001b[1;33m\u001b[0m\u001b[1;33m\u001b[0m\u001b[0m\n",
      "\u001b[1;32m~\\anaconda3\\lib\\site-packages\\wbtools\\lib\\scraping.py\u001b[0m in \u001b[0;36mdownload_pdf_file_from_url\u001b[1;34m(url, user, password)\u001b[0m\n\u001b[0;32m     87\u001b[0m     \u001b[0mrequest\u001b[0m\u001b[1;33m.\u001b[0m\u001b[0madd_header\u001b[0m\u001b[1;33m(\u001b[0m\u001b[1;34m\"Authorization\"\u001b[0m\u001b[1;33m,\u001b[0m \u001b[1;34m\"Basic %s\"\u001b[0m \u001b[1;33m%\u001b[0m \u001b[0mbase64string\u001b[0m\u001b[1;33m.\u001b[0m\u001b[0mdecode\u001b[0m\u001b[1;33m(\u001b[0m\u001b[1;34m'utf-8'\u001b[0m\u001b[1;33m)\u001b[0m\u001b[1;33m)\u001b[0m\u001b[1;33m\u001b[0m\u001b[1;33m\u001b[0m\u001b[0m\n\u001b[0;32m     88\u001b[0m     \u001b[1;32mwith\u001b[0m \u001b[0murllib\u001b[0m\u001b[1;33m.\u001b[0m\u001b[0mrequest\u001b[0m\u001b[1;33m.\u001b[0m\u001b[0murlopen\u001b[0m\u001b[1;33m(\u001b[0m\u001b[0mrequest\u001b[0m\u001b[1;33m)\u001b[0m \u001b[1;32mas\u001b[0m \u001b[0mresponse\u001b[0m\u001b[1;33m:\u001b[0m\u001b[1;33m\u001b[0m\u001b[1;33m\u001b[0m\u001b[0m\n\u001b[1;32m---> 89\u001b[1;33m         \u001b[1;32mwith\u001b[0m \u001b[0mopen\u001b[0m\u001b[1;33m(\u001b[0m\u001b[0mtmp_file\u001b[0m\u001b[1;33m.\u001b[0m\u001b[0mname\u001b[0m\u001b[1;33m,\u001b[0m \u001b[1;34m'wb'\u001b[0m\u001b[1;33m)\u001b[0m \u001b[1;32mas\u001b[0m \u001b[0mtmp_file_stream\u001b[0m\u001b[1;33m:\u001b[0m\u001b[1;33m\u001b[0m\u001b[1;33m\u001b[0m\u001b[0m\n\u001b[0m\u001b[0;32m     90\u001b[0m             \u001b[0mtmp_file_stream\u001b[0m\u001b[1;33m.\u001b[0m\u001b[0mwrite\u001b[0m\u001b[1;33m(\u001b[0m\u001b[0mresponse\u001b[0m\u001b[1;33m.\u001b[0m\u001b[0mread\u001b[0m\u001b[1;33m(\u001b[0m\u001b[1;33m)\u001b[0m\u001b[1;33m)\u001b[0m\u001b[1;33m\u001b[0m\u001b[1;33m\u001b[0m\u001b[0m\n\u001b[0;32m     91\u001b[0m     \u001b[1;32mreturn\u001b[0m \u001b[0mtmp_file\u001b[0m\u001b[1;33m\u001b[0m\u001b[1;33m\u001b[0m\u001b[0m\n",
      "\u001b[1;31mPermissionError\u001b[0m: [Errno 13] Permission denied: 'C:\\\\Users\\\\MRF7FD~1.KSH\\\\AppData\\\\Local\\\\Temp\\\\tmpot54aeu_'"
     ]
    }
   ],
   "source": [
    "from wbtools.literature.corpus import CorpusManager\n",
    "\n",
    "paper_id = \"00050564\"\n",
    "cm = CorpusManager()\n",
    "cm.load_from_wb_database(db_name=\"testdb\", db_user=\"hinxton\", db_password=\"h.h-Z__9v-CvstH!\", db_host=\"mangolassi.caltech.edu\",\n",
    "                         paper_ids=[paper_id], file_server_host=\"https://tazendra.caltech.edu/~acedb/daniel/\", file_server_user=\"kshitijsoni\", \n",
    "                         file_server_passwd=\"cpk2(<e$K/6Ku]~D\")\n",
    "sentences = cm.get_paper(paper_id).get_text_docs(split_sentences=True)"
   ]
  },
  {
   "cell_type": "code",
   "execution_count": 16,
   "id": "e48fb1ba",
   "metadata": {},
   "outputs": [
    {
     "ename": "InvalidDatetimeFormat",
     "evalue": "invalid input syntax for type timestamp with time zone: \"20/05/10/22/2022\"\nLINE 1: ...mp from pap_electronic_path WHERE pap_timestamp > E'20/05/10...\n                                                             ^\n",
     "output_type": "error",
     "traceback": [
      "\u001b[1;31m---------------------------------------------------------------------------\u001b[0m",
      "\u001b[1;31mInvalidDatetimeFormat\u001b[0m                     Traceback (most recent call last)",
      "\u001b[1;32m<ipython-input-16-d68aa2bb5b3b>\u001b[0m in \u001b[0;36m<module>\u001b[1;34m\u001b[0m\n\u001b[0;32m      5\u001b[0m \u001b[1;33m\u001b[0m\u001b[0m\n\u001b[0;32m      6\u001b[0m \u001b[0mcm\u001b[0m \u001b[1;33m=\u001b[0m \u001b[0mCorpusManager\u001b[0m\u001b[1;33m(\u001b[0m\u001b[1;33m)\u001b[0m\u001b[1;33m\u001b[0m\u001b[1;33m\u001b[0m\u001b[0m\n\u001b[1;32m----> 7\u001b[1;33m cm.load_from_wb_database(db_name=\"testdb\", db_user=\"hinxton\", db_password=\"h.h-Z__9v-CvstH!\", db_host=\"mangolassi.caltech.edu\",\n\u001b[0m\u001b[0;32m      8\u001b[0m                           \u001b[0mfrom_date\u001b[0m\u001b[1;33m=\u001b[0m\u001b[0mone_month_ago\u001b[0m\u001b[1;33m,\u001b[0m \u001b[0mmax_num_papers\u001b[0m\u001b[1;33m=\u001b[0m\u001b[1;36m50\u001b[0m\u001b[1;33m,\u001b[0m \u001b[0mfile_server_host\u001b[0m\u001b[1;33m=\u001b[0m\u001b[1;34m\"https://tazendra.caltech.edu/~acedb/daniel/\"\u001b[0m\u001b[1;33m,\u001b[0m \u001b[0mfile_server_user\u001b[0m\u001b[1;33m=\u001b[0m\u001b[1;34m\"kshitijsoni\"\u001b[0m\u001b[1;33m,\u001b[0m\u001b[1;33m\u001b[0m\u001b[1;33m\u001b[0m\u001b[0m\n\u001b[0;32m      9\u001b[0m                          file_server_passwd=\"cpk2(<e$K/6Ku]~D\")\n",
      "\u001b[1;32m~\\anaconda3\\lib\\site-packages\\wbtools\\literature\\corpus.py\u001b[0m in \u001b[0;36mload_from_wb_database\u001b[1;34m(self, db_name, db_user, db_password, db_host, file_server_host, file_server_user, file_server_passwd, paper_ids, from_date, load_pdf_files, load_bib_info, load_curation_info, load_afp_info, max_num_papers, exclude_ids, must_be_autclass_flagged, exclude_temp_pdf, exclude_pap_types, pap_types, exclude_afp_processed, exclude_afp_not_curatable, exclude_no_main_text, exclude_no_author_email)\u001b[0m\n\u001b[0;32m     99\u001b[0m         \u001b[1;32mwith\u001b[0m \u001b[0mmain_db_manager\u001b[0m\u001b[1;33m:\u001b[0m\u001b[1;33m\u001b[0m\u001b[1;33m\u001b[0m\u001b[0m\n\u001b[0;32m    100\u001b[0m             \u001b[1;32mif\u001b[0m \u001b[1;32mnot\u001b[0m \u001b[0mpaper_ids\u001b[0m\u001b[1;33m:\u001b[0m\u001b[1;33m\u001b[0m\u001b[1;33m\u001b[0m\u001b[0m\n\u001b[1;32m--> 101\u001b[1;33m                 paper_ids = main_db_manager.generic.get_all_paper_ids(added_or_modified_after=from_date,\n\u001b[0m\u001b[0;32m    102\u001b[0m                                                                       exclude_ids=exclude_ids)\n\u001b[0;32m    103\u001b[0m             \u001b[1;32mif\u001b[0m \u001b[0mpap_types\u001b[0m\u001b[1;33m:\u001b[0m\u001b[1;33m\u001b[0m\u001b[1;33m\u001b[0m\u001b[0m\n",
      "\u001b[1;32m~\\anaconda3\\lib\\site-packages\\wbtools\\db\\generic.py\u001b[0m in \u001b[0;36mget_all_paper_ids\u001b[1;34m(self, added_or_modified_after, exclude_ids)\u001b[0m\n\u001b[0;32m     24\u001b[0m             \u001b[0madded_or_modified_after\u001b[0m \u001b[1;33m=\u001b[0m \u001b[1;34m'1970-01-01'\u001b[0m\u001b[1;33m\u001b[0m\u001b[1;33m\u001b[0m\u001b[0m\n\u001b[0;32m     25\u001b[0m         \u001b[1;32mwith\u001b[0m \u001b[0mself\u001b[0m\u001b[1;33m.\u001b[0m\u001b[0mget_cursor\u001b[0m\u001b[1;33m(\u001b[0m\u001b[1;33m)\u001b[0m \u001b[1;32mas\u001b[0m \u001b[0mcurs\u001b[0m\u001b[1;33m:\u001b[0m\u001b[1;33m\u001b[0m\u001b[1;33m\u001b[0m\u001b[0m\n\u001b[1;32m---> 26\u001b[1;33m             curs.execute(\"SELECT DISTINCT joinkey, pap_timestamp from pap_electronic_path WHERE pap_timestamp > %s \"\n\u001b[0m\u001b[0;32m     27\u001b[0m                          \u001b[1;34m\"ORDER BY pap_timestamp DESC\"\u001b[0m\u001b[1;33m,\u001b[0m\u001b[1;33m\u001b[0m\u001b[1;33m\u001b[0m\u001b[0m\n\u001b[0;32m     28\u001b[0m                          (added_or_modified_after, ))\n",
      "\u001b[1;31mInvalidDatetimeFormat\u001b[0m: invalid input syntax for type timestamp with time zone: \"20/05/10/22/2022\"\nLINE 1: ...mp from pap_electronic_path WHERE pap_timestamp > E'20/05/10...\n                                                             ^\n"
     ]
    }
   ],
   "source": [
    "from wbtools.literature.corpus import CorpusManager\n",
    "import datetime\n",
    "\n",
    "one_month_ago = (datetime.datetime.now() - datetime.timedelta(days=30)).strftime(\"%M/%D/%Y\")\n",
    "\n",
    "cm = CorpusManager()\n",
    "cm.load_from_wb_database(db_name=\"testdb\", db_user=\"hinxton\", db_password=\"h.h-Z__9v-CvstH!\", db_host=\"mangolassi.caltech.edu\",\n",
    "                          from_date=one_month_ago, max_num_papers=50, file_server_host=\"https://tazendra.caltech.edu/~acedb/daniel/\", file_server_user=\"kshitijsoni\", \n",
    "                         file_server_passwd=\"cpk2(<e$K/6Ku]~D\")\n",
    "paper_ids = [paper.paper_id for paper in cm.get_all_papers()]"
   ]
  },
  {
   "cell_type": "code",
   "execution_count": null,
   "id": "d55c2373",
   "metadata": {},
   "outputs": [],
   "source": []
  }
 ],
 "metadata": {
  "kernelspec": {
   "display_name": "Python 3",
   "language": "python",
   "name": "python3"
  },
  "language_info": {
   "codemirror_mode": {
    "name": "ipython",
    "version": 3
   },
   "file_extension": ".py",
   "mimetype": "text/x-python",
   "name": "python",
   "nbconvert_exporter": "python",
   "pygments_lexer": "ipython3",
   "version": "3.8.8"
  }
 },
 "nbformat": 4,
 "nbformat_minor": 5
}
