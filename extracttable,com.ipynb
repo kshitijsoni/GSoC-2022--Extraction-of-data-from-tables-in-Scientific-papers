{
 "cells": [
  {
   "cell_type": "code",
   "execution_count": 1,
   "id": "0333ef62",
   "metadata": {},
   "outputs": [
    {
     "name": "stdout",
     "output_type": "stream",
     "text": [
      "Collecting ExtractTable\n",
      "  Downloading ExtractTable-2.3.1-py3-none-any.whl (18 kB)\n",
      "Requirement already satisfied: requests>=2.21 in c:\\users\\mr.kshitij\\anaconda3\\lib\\site-packages (from ExtractTable) (2.25.1)\n",
      "Requirement already satisfied: pandas>=0.24 in c:\\users\\mr.kshitij\\anaconda3\\lib\\site-packages (from ExtractTable) (1.3.5)\n",
      "Requirement already satisfied: PyPDF2>=1.26 in c:\\users\\mr.kshitij\\anaconda3\\lib\\site-packages (from ExtractTable) (2.1.0)\n",
      "Requirement already satisfied: pytz>=2017.3 in c:\\users\\mr.kshitij\\anaconda3\\lib\\site-packages (from pandas>=0.24->ExtractTable) (2021.1)\n",
      "Requirement already satisfied: numpy>=1.17.3 in c:\\users\\mr.kshitij\\anaconda3\\lib\\site-packages (from pandas>=0.24->ExtractTable) (1.19.5)\n",
      "Requirement already satisfied: python-dateutil>=2.7.3 in c:\\users\\mr.kshitij\\anaconda3\\lib\\site-packages (from pandas>=0.24->ExtractTable) (2.8.1)\n",
      "Requirement already satisfied: typing-extensions in c:\\users\\mr.kshitij\\anaconda3\\lib\\site-packages (from PyPDF2>=1.26->ExtractTable) (3.7.4.3)\n",
      "Requirement already satisfied: six>=1.5 in c:\\users\\mr.kshitij\\anaconda3\\lib\\site-packages (from python-dateutil>=2.7.3->pandas>=0.24->ExtractTable) (1.15.0)\n",
      "Requirement already satisfied: chardet<5,>=3.0.2 in c:\\users\\mr.kshitij\\anaconda3\\lib\\site-packages (from requests>=2.21->ExtractTable) (4.0.0)\n",
      "Requirement already satisfied: urllib3<1.27,>=1.21.1 in c:\\users\\mr.kshitij\\anaconda3\\lib\\site-packages (from requests>=2.21->ExtractTable) (1.26.4)\n",
      "Requirement already satisfied: idna<3,>=2.5 in c:\\users\\mr.kshitij\\anaconda3\\lib\\site-packages (from requests>=2.21->ExtractTable) (2.10)\n",
      "Requirement already satisfied: certifi>=2017.4.17 in c:\\users\\mr.kshitij\\anaconda3\\lib\\site-packages (from requests>=2.21->ExtractTable) (2020.12.5)\n",
      "Installing collected packages: ExtractTable\n",
      "Successfully installed ExtractTable-2.3.1\n"
     ]
    }
   ],
   "source": [
    "!pip install -U ExtractTable"
   ]
  },
  {
   "cell_type": "code",
   "execution_count": 2,
   "id": "51548c80",
   "metadata": {},
   "outputs": [],
   "source": [
    "from ExtractTable import ExtractTable"
   ]
  },
  {
   "cell_type": "code",
   "execution_count": 5,
   "id": "128567fc",
   "metadata": {},
   "outputs": [],
   "source": [
    "api_key = 'WuU8kDBHlQcPQKxSLQRxWNwypLKtZ0VFBoGbwBoX'"
   ]
  },
  {
   "cell_type": "code",
   "execution_count": 6,
   "id": "898e2088",
   "metadata": {},
   "outputs": [],
   "source": [
    "et_sess = ExtractTable(api_key)"
   ]
  },
  {
   "cell_type": "code",
   "execution_count": 7,
   "id": "6d7c5fec",
   "metadata": {},
   "outputs": [],
   "source": [
    "usage = et_sess.check_usage()"
   ]
  },
  {
   "cell_type": "code",
   "execution_count": 8,
   "id": "7304af84",
   "metadata": {},
   "outputs": [
    {
     "data": {
      "text/plain": [
       "{'usage': {'credits': 10, 'used': 0, 'queued': 0},\n",
       " 'keyType': 'FREE_TRIAL',\n",
       " 'plan': 'FREE_TRIAL'}"
      ]
     },
     "execution_count": 8,
     "metadata": {},
     "output_type": "execute_result"
    }
   ],
   "source": [
    "et_sess.server_response"
   ]
  },
  {
   "cell_type": "code",
   "execution_count": 9,
   "id": "394a5f2f",
   "metadata": {},
   "outputs": [
    {
     "name": "stdout",
     "output_type": "stream",
     "text": [
      "{'credits': 10, 'used': 0, 'queued': 0}\n"
     ]
    }
   ],
   "source": [
    "print(usage)"
   ]
  },
  {
   "cell_type": "code",
   "execution_count": 25,
   "id": "2e2cb5d8",
   "metadata": {},
   "outputs": [],
   "source": [
    "image_location = r'Screenshot 2022-07-04 015527.png'"
   ]
  },
  {
   "cell_type": "code",
   "execution_count": 26,
   "id": "0f597f44",
   "metadata": {},
   "outputs": [],
   "source": [
    "table_data = et_sess.process_file(filepath='Screenshot 2022-07-04 015527.png', output_format=\"df\")"
   ]
  },
  {
   "cell_type": "code",
   "execution_count": 27,
   "id": "ceb9c1d2",
   "metadata": {},
   "outputs": [
    {
     "data": {
      "text/plain": [
       "[                 0                    1            2             3  \\\n",
       " 0           Allele  Nucleotide Affected  Base Change  Codon Change   \n",
       " 1             r380                 1767          G-A       GAA-AAA   \n",
       " 2             r342                 1827          C-T       CGU-UGU   \n",
       " 3        r381 r424                 2365          C-T       CCA-CUA   \n",
       " 4             r445                                                   \n",
       " 5        r440 r557                 2442          C-T       CAU-UAU   \n",
       " 6             r558                                                   \n",
       " 7        r344 r382                 2518          G-A       CGA-GAA   \n",
       " 8             r433                                                   \n",
       " 9        r416 r423                 2526          G-A      GGA->AGA   \n",
       " 10            r556                                                   \n",
       " 11       r413 r420                 2532          G-A      GGA->AGA   \n",
       " 12       r400 r402                 2533          G-A       GGA-GAA   \n",
       " 13            r554                 2683          G-A       GGU-GAU   \n",
       " 14            r401                 2713          C-T       UCA-UUA   \n",
       " 15       r343 r371                 2716          C-T       UCC-UUC   \n",
       " 16            r553                                                   \n",
       " 17            r551                 3019          G-A       GAG-AAG   \n",
       " 18       r417 r441                 3446          G-A       GGU-GAU   \n",
       " 19       r383 r415                 4144          C-T       ACU-AUU   \n",
       " 20  r372 r434 r444                 4174          C-T       CCC-CUC   \n",
       " \n",
       "                           4  \n",
       " 0   Amino Acid Substitution  \n",
       " 1               Glu-87->Lys  \n",
       " 2               Arg-107-Cys  \n",
       " 3               Pro-126-Leu  \n",
       " 4                            \n",
       " 5              His-152->Tyr  \n",
       " 6                            \n",
       " 7               Gly-177-Glu  \n",
       " 8                            \n",
       " 9              Gly-180->Arg  \n",
       " 10                           \n",
       " 11             Gly-182->Arg  \n",
       " 12              Gly-182-Glu  \n",
       " 13              Gly-232->Ap  \n",
       " 14              Ser-242-Leu  \n",
       " 15             Ser-243->Phe  \n",
       " 16                           \n",
       " 17             Glu-318->Lys  \n",
       " 18              Gly-460-Asp  \n",
       " 19             Thr-675->lle  \n",
       " 20              Pro-685-Leu  ]"
      ]
     },
     "execution_count": 27,
     "metadata": {},
     "output_type": "execute_result"
    }
   ],
   "source": [
    "table_data"
   ]
  },
  {
   "cell_type": "code",
   "execution_count": 29,
   "id": "3de147e9",
   "metadata": {},
   "outputs": [
    {
     "data": {
      "text/plain": [
       "'Untitled Folder 1'"
      ]
     },
     "execution_count": 29,
     "metadata": {},
     "output_type": "execute_result"
    }
   ],
   "source": [
    "et_sess.save_output('Untitled Folder 1', output_format=\"csv\")"
   ]
  },
  {
   "cell_type": "code",
   "execution_count": null,
   "id": "dc84964f",
   "metadata": {},
   "outputs": [],
   "source": []
  }
 ],
 "metadata": {
  "kernelspec": {
   "display_name": "Python 3",
   "language": "python",
   "name": "python3"
  },
  "language_info": {
   "codemirror_mode": {
    "name": "ipython",
    "version": 3
   },
   "file_extension": ".py",
   "mimetype": "text/x-python",
   "name": "python",
   "nbconvert_exporter": "python",
   "pygments_lexer": "ipython3",
   "version": "3.8.8"
  }
 },
 "nbformat": 4,
 "nbformat_minor": 5
}
