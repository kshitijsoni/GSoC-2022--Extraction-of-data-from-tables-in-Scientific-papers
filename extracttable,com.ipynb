{
 "cells": [
  {
   "cell_type": "code",
   "execution_count": 1,
   "id": "1f82da4b",
   "metadata": {},
   "outputs": [
    {
     "name": "stdout",
     "output_type": "stream",
     "text": [
      "Collecting ExtractTable\n",
      "  Downloading ExtractTable-2.3.1-py3-none-any.whl (18 kB)\n",
      "Requirement already satisfied: requests>=2.21 in c:\\users\\mr.kshitij\\anaconda3\\lib\\site-packages (from ExtractTable) (2.25.1)\n",
      "Requirement already satisfied: pandas>=0.24 in c:\\users\\mr.kshitij\\anaconda3\\lib\\site-packages (from ExtractTable) (1.3.5)\n",
      "Requirement already satisfied: PyPDF2>=1.26 in c:\\users\\mr.kshitij\\anaconda3\\lib\\site-packages (from ExtractTable) (2.1.0)\n",
      "Requirement already satisfied: pytz>=2017.3 in c:\\users\\mr.kshitij\\anaconda3\\lib\\site-packages (from pandas>=0.24->ExtractTable) (2021.1)\n",
      "Requirement already satisfied: numpy>=1.17.3 in c:\\users\\mr.kshitij\\anaconda3\\lib\\site-packages (from pandas>=0.24->ExtractTable) (1.19.5)\n",
      "Requirement already satisfied: python-dateutil>=2.7.3 in c:\\users\\mr.kshitij\\anaconda3\\lib\\site-packages (from pandas>=0.24->ExtractTable) (2.8.1)\n",
      "Requirement already satisfied: typing-extensions in c:\\users\\mr.kshitij\\anaconda3\\lib\\site-packages (from PyPDF2>=1.26->ExtractTable) (3.7.4.3)\n",
      "Requirement already satisfied: six>=1.5 in c:\\users\\mr.kshitij\\anaconda3\\lib\\site-packages (from python-dateutil>=2.7.3->pandas>=0.24->ExtractTable) (1.15.0)\n",
      "Requirement already satisfied: chardet<5,>=3.0.2 in c:\\users\\mr.kshitij\\anaconda3\\lib\\site-packages (from requests>=2.21->ExtractTable) (4.0.0)\n",
      "Requirement already satisfied: urllib3<1.27,>=1.21.1 in c:\\users\\mr.kshitij\\anaconda3\\lib\\site-packages (from requests>=2.21->ExtractTable) (1.26.4)\n",
      "Requirement already satisfied: idna<3,>=2.5 in c:\\users\\mr.kshitij\\anaconda3\\lib\\site-packages (from requests>=2.21->ExtractTable) (2.10)\n",
      "Requirement already satisfied: certifi>=2017.4.17 in c:\\users\\mr.kshitij\\anaconda3\\lib\\site-packages (from requests>=2.21->ExtractTable) (2020.12.5)\n",
      "Installing collected packages: ExtractTable\n",
      "Successfully installed ExtractTable-2.3.1\n"
     ]
    }
   ],
   "source": [
    "!pip install -U ExtractTable"
   ]
  },
  {
   "cell_type": "code",
   "execution_count": 2,
   "id": "6461253c",
   "metadata": {},
   "outputs": [],
   "source": [
    "from ExtractTable import ExtractTable"
   ]
  },
  {
   "cell_type": "code",
   "execution_count": 5,
   "id": "96e01bc0",
   "metadata": {},
   "outputs": [],
   "source": [
    "api_key = 'WuU8kDBHlQcPQKxSLQRxWNwypLKtZ0VFBoGbwBoX'"
   ]
  },
  {
   "cell_type": "code",
   "execution_count": 6,
   "id": "a8743aba",
   "metadata": {},
   "outputs": [],
   "source": [
    "et_sess = ExtractTable(api_key)"
   ]
  },
  {
   "cell_type": "code",
   "execution_count": 7,
   "id": "337d7b06",
   "metadata": {},
   "outputs": [],
   "source": [
    "usage = et_sess.check_usage()"
   ]
  },
  {
   "cell_type": "code",
   "execution_count": 8,
   "id": "3cde07dc",
   "metadata": {},
   "outputs": [
    {
     "data": {
      "text/plain": [
       "{'usage': {'credits': 10, 'used': 0, 'queued': 0},\n",
       " 'keyType': 'FREE_TRIAL',\n",
       " 'plan': 'FREE_TRIAL'}"
      ]
     },
     "execution_count": 8,
     "metadata": {},
     "output_type": "execute_result"
    }
   ],
   "source": [
    "et_sess.server_response"
   ]
  },
  {
   "cell_type": "code",
   "execution_count": 9,
   "id": "e8cad74c",
   "metadata": {},
   "outputs": [
    {
     "name": "stdout",
     "output_type": "stream",
     "text": [
      "{'credits': 10, 'used': 0, 'queued': 0}\n"
     ]
    }
   ],
   "source": [
    "print(usage)"
   ]
  },
  {
   "cell_type": "code",
   "execution_count": 20,
   "id": "4d96971f",
   "metadata": {},
   "outputs": [],
   "source": [
    "image_location = r'Screenshot 2022-07-03 210749.png'"
   ]
  },
  {
   "cell_type": "code",
   "execution_count": 21,
   "id": "ff16bf1f",
   "metadata": {},
   "outputs": [],
   "source": [
    "table_data = et_sess.process_file(filepath='Screenshot 2022-07-03 210749.png', output_format=\"df\")"
   ]
  },
  {
   "cell_type": "code",
   "execution_count": 22,
   "id": "adced0b5",
   "metadata": {},
   "outputs": [
    {
     "data": {
      "text/plain": [
       "[             0                                                  1  \\\n",
       " 0         Gene                           Genotype of heterozygote   \n",
       " 1       lin-65          + lin-65 + /bli-3 + lin-17; lin-15A(n767)   \n",
       " 2                        bli-3 + lin-65/+ spe-15 +; lin-15A(n767)   \n",
       " 3                       + lin-65 lin-17/spe-15 + +; lin-15A(n767)   \n",
       " 4                        bli-3 + + + lin-65 +/+ Y73E7.2 Y71G12B.2   \n",
       " 5                          Y71G12B.17 + Y71G12B.18; lin-15A(n767)   \n",
       " 6                                                                   \n",
       " 7                                                                   \n",
       " 8                   + lin-65 + + + lin-17/Y71G12B.17 + Y71G12B.18   \n",
       " 9                             Y71G12B.27 M01D7.2 +; lin-15A(n767)   \n",
       " 10                                                                  \n",
       " 11                                                                  \n",
       " 12  lin(n3542)  + + lin(n3542) lin-15A(n767)/une-10 dp lin-15A...   \n",
       " 13              + lin(n3542) ++ lin-15A(n767)/dpy-6 +unc-9 lin...   \n",
       " 14  lin(n3628)       lin(n3628) + +/+ dpy-5 uno-13; lin-15A(n767)   \n",
       " 15                                                                  \n",
       " 16                     + lin(n3628)+/unc-1l + dpy-5;lin-15A(n767)   \n",
       " 17                                                                  \n",
       " 18              unc-11 + + lin(n3628)/+ unc-73 lin-44 +; in-15...   \n",
       " 19              + + lin(n3628) dpy-5/unc-73 lin-44 + +; lin-15...   \n",
       " 20                   lin(n3628) + dpy-5/+ unc-38 +; lin-15A(n767)   \n",
       " 21                  unc-11 lin(n3628) +/+ + unc-38; lin-15A(n767)   \n",
       " 22       mep-1                            + dpy-20; lin-15A(n767)   \n",
       " 23                                                                  \n",
       " 24                       mep-1 + +/+ dpy-20 unc-30; lin-15A(n767)   \n",
       " 25                                                                  \n",
       " 26               + + mep-1 +/unc-24 mec-3 + dpy-20; lin-15A(n767)   \n",
       " 27                                                                  \n",
       " 28                                                                  \n",
       " 29                                                                  \n",
       " 30               + mep-1 dpy-20 +/lin-3 + + unc-22; lin-15A(n767)   \n",
       " 31                                                                  \n",
       " 32                 + + mep-1+/mea-3 sem-3 + dpy-20; lin-15A(n767)   \n",
       " 33                                                                  \n",
       " 34       mys-1                   mys-1 +/unc-46 + dpy-11; lin-15A   \n",
       " 35                                                                  \n",
       " 36       trr-1                                   +; lin-15A(n767)   \n",
       " 37                                                                  \n",
       " 38                                                                  \n",
       " 39                          trr-1 1+/dpy-10+ rol-1; lin-15A(n767)   \n",
       " 40                             tm-1/dpy-10 unc-53+; lin-15A(n767)   \n",
       " 41                          trr-1 +/unc-53 + rol-1; lin-15A(n767)   \n",
       " 42                                                                  \n",
       " 43                   trr-1 + rol-1/unc-4 + mex-1 +; lin-15A(n767)   \n",
       " \n",
       "                                      2  \\\n",
       " 0   Phenotype of selected recombinants   \n",
       " 1                               Lin-17   \n",
       " 2                                  Muv   \n",
       " 3                               Lin-17   \n",
       " 4                                  Muv   \n",
       " 5                                  Muv   \n",
       " 6                                  Muv   \n",
       " 7                                  Muv   \n",
       " 8                               Lin-17   \n",
       " 9                               Lin-17   \n",
       " 10                              Lin-17   \n",
       " 11                              Lin-17   \n",
       " 12                                 Unc   \n",
       " 13                                 Unc   \n",
       " 14                                 Dpy   \n",
       " 15                                 Unc   \n",
       " 16                                 Unc   \n",
       " 17                                 Dpy   \n",
       " 18                                 Muv   \n",
       " 19                                 Muv   \n",
       " 20                                 Muv   \n",
       " 21                                 Muy   \n",
       " 22                                 Unc   \n",
       " 23                                 Dpy   \n",
       " 24                                 Dpy   \n",
       " 25                                 Unc   \n",
       " 26                             Unc Mec   \n",
       " 27                                 Unc   \n",
       " 28                             Mec Dpy   \n",
       " 29                                 Dpy   \n",
       " 30                                 Dpy   \n",
       " 31                                 Vul   \n",
       " 32                                 Mec   \n",
       " 33                                 Dpy   \n",
       " 34                                 Unc   \n",
       " 35                                 Dpy   \n",
       " 36                                 Rol   \n",
       " 37                                 Dpy   \n",
       " 38                                 Unc   \n",
       " 39                                 Rol   \n",
       " 40                                 Unc   \n",
       " 41                                 Unc   \n",
       " 42                                 Rol   \n",
       " 43                                 Rol   \n",
       " \n",
       "                                                     3  \n",
       " 0   Genotype of selected recombinants (with respec...  \n",
       " 1                                       9/19 lin-65/+  \n",
       " 2                                      10/18 spe-15/+  \n",
       " 3                                      11/11 spe-15/+  \n",
       " 4                                      4/30 Y73E7.2/+  \n",
       " 5                                    2/30 Y71G12B.2/+  \n",
       " 6                                   1/30 Y71G12B.17/+  \n",
       " 7                                   0/30 Y71G12B.18/+  \n",
       " 8                                     17/23 M0ID7.2/+  \n",
       " 9                                  18/23 Y71G12B.27/+  \n",
       " 10                                 21/23 Y71G12B.18/+  \n",
       " 11                                 23/23 Y71G12B.17/+  \n",
       " 12                                   8/8 lin(n3542)/+  \n",
       " 13                                  4/40 lin(n3542)/+  \n",
       " 14                                   0/6 lin(n3628)/+  \n",
       " 15                                   6/6 lin(n3628)/+  \n",
       " 16                                  1/11 lin(n3628)/+  \n",
       " 17                                  5/11 lin(n3628)/+  \n",
       " 18                               3/9 unc-73 lin-44/++  \n",
       " 19                              0/21 unc-73 lin-44/++  \n",
       " 20                                       3/7 unc-38/+  \n",
       " 21                                       0/9 unc-38/+  \n",
       " 22                                      56/57 mep-1/+  \n",
       " 23                                       2/61 mep-1/+  \n",
       " 24                                       0/51 mep-1/+  \n",
       " 25                                      58/58 mep-1/+  \n",
       " 26                                      10/12 mep-1/+  \n",
       " 27                                      17/17 mep-1/+  \n",
       " 28                                        0/8 mep-1/+  \n",
       " 29                                        2/8 mep-1/+  \n",
       " 30                                        5/5 lin-3/+  \n",
       " 31                                       3/10 mep-1/+  \n",
       " 32                                      17/17 mep-1/+  \n",
       " 33                                       6/13 mep-1/+  \n",
       " 34                                        3/7 mys-1/+  \n",
       " 35                                       7/11 mys-1/+  \n",
       " 36                                       3/14 unc-4/+  \n",
       " 37                                        3/3 tri-1/+  \n",
       " 38                                        0/8 tri-1/+  \n",
       " 39                                       9/20 trr-1/+  \n",
       " 40                                       0/17 trr-1/+  \n",
       " 41                                       7/10 trr-1/+  \n",
       " 42                                       7/10 trr-1/+  \n",
       " 43                                      12/14 mex-1/+  ]"
      ]
     },
     "execution_count": 22,
     "metadata": {},
     "output_type": "execute_result"
    }
   ],
   "source": [
    "table_data"
   ]
  },
  {
   "cell_type": "code",
   "execution_count": 23,
   "id": "9e6388bf",
   "metadata": {},
   "outputs": [
    {
     "data": {
      "text/plain": [
       "'Untitled Folder 1'"
      ]
     },
     "execution_count": 23,
     "metadata": {},
     "output_type": "execute_result"
    }
   ],
   "source": [
    "et_sess.save_output('Untitled Folder 1', output_format=\"csv\")"
   ]
  },
  {
   "cell_type": "code",
   "execution_count": null,
   "id": "0bc5ae81",
   "metadata": {},
   "outputs": [],
   "source": []
  }
 ],
 "metadata": {
  "kernelspec": {
   "display_name": "Python 3",
   "language": "python",
   "name": "python3"
  },
  "language_info": {
   "codemirror_mode": {
    "name": "ipython",
    "version": 3
   },
   "file_extension": ".py",
   "mimetype": "text/x-python",
   "name": "python",
   "nbconvert_exporter": "python",
   "pygments_lexer": "ipython3",
   "version": "3.8.8"
  }
 },
 "nbformat": 4,
 "nbformat_minor": 5
}
